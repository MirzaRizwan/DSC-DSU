{
 "cells": [
  {
   "cell_type": "code",
   "execution_count": 1,
   "metadata": {},
   "outputs": [],
   "source": [
    "from selenium import webdriver\n",
    "from getpass import getpass\n",
    "from selenium.common.exceptions import NoSuchElementException, TimeoutException\n",
    "from selenium.webdriver.support.ui import WebDriverWait\n",
    "from selenium.webdriver.support import expected_conditions as EC\n",
    "from selenium.webdriver.common.by import By\n",
    "from selenium.webdriver.chrome.options import Options"
   ]
  },
  {
   "cell_type": "code",
   "execution_count": 9,
   "metadata": {},
   "outputs": [],
   "source": [
    "driver = webdriver.Chrome()"
   ]
  },
  {
   "cell_type": "code",
   "execution_count": 10,
   "metadata": {},
   "outputs": [],
   "source": [
    "driver.get(\"https://www.facebook.com\")"
   ]
  },
  {
   "cell_type": "code",
   "execution_count": 11,
   "metadata": {},
   "outputs": [],
   "source": [
    "def login(url):\n",
    "    driver.get(url)\n",
    "    email_field = driver.find_element_by_id(\"email\")\n",
    "    password_field = driver.find_element_by_id(\"pass\")\n",
    "    login_btn = driver.find_element_by_css_selector(\n",
    "        'button[data-testid=\"royal_login_button\"]')\n",
    "\n",
    "    email = \"sinnytk@gmail.com\"\n",
    "    password = getpass(\"Enter password: \")\n",
    "    email_field.send_keys(email)\n",
    "    password_field.send_keys(password)\n",
    "    login_btn.click()"
   ]
  },
  {
   "cell_type": "code",
   "execution_count": 12,
   "metadata": {},
   "outputs": [
    {
     "name": "stdout",
     "output_type": "stream",
     "text": [
      "Enter password: ········\n"
     ]
    }
   ],
   "source": [
    "login(\"https://www.facebook.com\")"
   ]
  },
  {
   "cell_type": "code",
   "execution_count": 13,
   "metadata": {},
   "outputs": [],
   "source": [
    "post_url = \"https://m.facebook.com/DeveloperStudentClubDHASuffaUniversity/posts/2838471249806942\""
   ]
  },
  {
   "cell_type": "code",
   "execution_count": 15,
   "metadata": {},
   "outputs": [],
   "source": [
    "driver.get(\"https://m.facebook.com/DeveloperStudentClubDHASuffaUniversity/posts/2838471249806942\")"
   ]
  },
  {
   "cell_type": "code",
   "execution_count": 21,
   "metadata": {},
   "outputs": [],
   "source": [
    "like_btn = driver.find_element_by_css_selector(\"div[data-sigil='ufi-inline-actions'] div\")"
   ]
  },
  {
   "cell_type": "code",
   "execution_count": 22,
   "metadata": {},
   "outputs": [
    {
     "data": {
      "text/plain": [
       "'<div class=\"_52jj _15kl _3hwk _4g34\"><a class=\"_15ko _77li _77la touchable\" data-store=\"{&quot;reaction&quot;:1,&quot;feedbackTarget&quot;:2838471249806942,&quot;kaiOSReactions&quot;:false}\" aria-pressed=\"true\" role=\"button\" data-ft=\"{&quot;tn&quot;:&quot;>&quot;}\" id=\"u_0_u\" data-sigil=\"touchable ufi-inline-like like-reaction-flyout\" data-autoid=\"autoid_7\" data-uri=\"https://m.facebook.com/ufi/reaction/?ft_ent_identifier=2838471249806942&amp;reaction_type=1&amp;story_render_location=permalink&amp;feedback_source=8&amp;is_sponsored=0&amp;ext=1608744219&amp;hash=AeQ0pgK11zArNP5GcPY&amp;__tn__=%3E%2AW-R\">Like</a><div class=\"_1ekf\" role=\"link\" tabindex=\"-1\" data-sigil=\"screenreader-reactions-trigger\">Show more reactions</div></div>'"
      ]
     },
     "execution_count": 22,
     "metadata": {},
     "output_type": "execute_result"
    }
   ],
   "source": [
    "like_btn.get_attribute(\"outerHTML\")"
   ]
  },
  {
   "cell_type": "code",
   "execution_count": 27,
   "metadata": {},
   "outputs": [],
   "source": [
    "like_btn.click()"
   ]
  },
  {
   "cell_type": "code",
   "execution_count": 28,
   "metadata": {},
   "outputs": [],
   "source": [
    "comment_box = driver.find_element_by_css_selector(\"div[data-sigil='m-composer'] textarea#composerInput\")"
   ]
  },
  {
   "cell_type": "code",
   "execution_count": 29,
   "metadata": {},
   "outputs": [
    {
     "data": {
      "text/plain": [
       "'<textarea class=\"_uwx mentions-input\" id=\"composerInput\" rows=\"3\" data-sigil=\"textarea mufi-composer m-textarea-input\" data-autoid=\"autoid_16\" data-store-id=\"13\"></textarea>'"
      ]
     },
     "execution_count": 29,
     "metadata": {},
     "output_type": "execute_result"
    }
   ],
   "source": [
    "comment_box.get_attribute(\"outerHTML\")"
   ]
  },
  {
   "cell_type": "code",
   "execution_count": 30,
   "metadata": {},
   "outputs": [],
   "source": [
    "comment_box.send_keys(\"Hello from Python Bootcamp Week 3 Day 3 Live!\")"
   ]
  },
  {
   "cell_type": "code",
   "execution_count": 31,
   "metadata": {},
   "outputs": [],
   "source": [
    "post_button = driver.find_element_by_css_selector(\"div[data-sigil='m-composer'] button[data-sigil='touchable composer-submit']\")"
   ]
  },
  {
   "cell_type": "code",
   "execution_count": 32,
   "metadata": {},
   "outputs": [
    {
     "data": {
      "text/plain": [
       "'<button type=\"submit\" value=\"Post\" class=\"_54k8 _52jg _56bs _26vk _3lmf _3fyi _56bv _653w\" aria-label=\"Post\" name=\"submit\" data-sigil=\"touchable composer-submit\"><span class=\"_55sr\">Post</span></button>'"
      ]
     },
     "execution_count": 32,
     "metadata": {},
     "output_type": "execute_result"
    }
   ],
   "source": [
    "post_button.get_attribute(\"outerHTML\")"
   ]
  },
  {
   "cell_type": "code",
   "execution_count": 33,
   "metadata": {},
   "outputs": [],
   "source": [
    "post_button.click()"
   ]
  },
  {
   "cell_type": "code",
   "execution_count": 38,
   "metadata": {},
   "outputs": [],
   "source": []
  },
  {
   "cell_type": "code",
   "execution_count": 37,
   "metadata": {},
   "outputs": [],
   "source": []
  },
  {
   "cell_type": "code",
   "execution_count": null,
   "metadata": {},
   "outputs": [],
   "source": []
  }
 ],
 "metadata": {
  "kernelspec": {
   "display_name": "Python 3",
   "language": "python",
   "name": "python3"
  },
  "language_info": {
   "codemirror_mode": {
    "name": "ipython",
    "version": 3
   },
   "file_extension": ".py",
   "mimetype": "text/x-python",
   "name": "python",
   "nbconvert_exporter": "python",
   "pygments_lexer": "ipython3",
   "version": "3.8.5"
  }
 },
 "nbformat": 4,
 "nbformat_minor": 4
}
