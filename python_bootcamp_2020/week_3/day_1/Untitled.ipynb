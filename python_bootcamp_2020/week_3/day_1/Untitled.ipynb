{
 "cells": [
  {
   "cell_type": "code",
   "execution_count": 1,
   "metadata": {},
   "outputs": [],
   "source": [
    "from selenium import webdriver"
   ]
  },
  {
   "cell_type": "code",
   "execution_count": 3,
   "metadata": {},
   "outputs": [],
   "source": [
    "driver = webdriver.Chrome(executable_path=\"chromedriver\")"
   ]
  },
  {
   "cell_type": "code",
   "execution_count": 77,
   "metadata": {},
   "outputs": [],
   "source": [
    "driver = webdriver.Chrome()"
   ]
  },
  {
   "cell_type": "code",
   "execution_count": 7,
   "metadata": {},
   "outputs": [],
   "source": [
    "driver.get(\"https://github.com\")"
   ]
  },
  {
   "cell_type": "code",
   "execution_count": 8,
   "metadata": {},
   "outputs": [],
   "source": [
    "driver.get(\"https://github.com/sinnytk\")"
   ]
  },
  {
   "cell_type": "code",
   "execution_count": 33,
   "metadata": {},
   "outputs": [],
   "source": [
    "repos = driver.find_elements_by_css_selector('div.pinned-item-list-item-content div a')"
   ]
  },
  {
   "cell_type": "code",
   "execution_count": 14,
   "metadata": {},
   "outputs": [
    {
     "data": {
      "text/plain": [
       "<selenium.webdriver.remote.webelement.WebElement (session=\"4612dc51cf5c14a09cad16e6a0658c28\", element=\"a152344e-4354-4bf8-83da-241c944bd3aa\")>"
      ]
     },
     "execution_count": 14,
     "metadata": {},
     "output_type": "execute_result"
    }
   ],
   "source": [
    "repos[0]"
   ]
  },
  {
   "cell_type": "code",
   "execution_count": 15,
   "metadata": {},
   "outputs": [],
   "source": [
    "import requests\n",
    "from bs4 import BeautifulSoup\n",
    "res = requests.get(\"https://github.com/sinnytk\")\n",
    "soup = BeautifulSoup(res.content,'html.parser')"
   ]
  },
  {
   "cell_type": "code",
   "execution_count": 30,
   "metadata": {},
   "outputs": [],
   "source": [
    "repos = soup.select(\"div.pinned-item-list-item-content div a\") "
   ]
  },
  {
   "cell_type": "code",
   "execution_count": 22,
   "metadata": {},
   "outputs": [
    {
     "name": "stdout",
     "output_type": "stream",
     "text": [
      "ration-app https://github.com/sinnytk/ration-app\n",
      "Buildr https://github.com/sinnytk/Buildr\n",
      "dsu-feedback-bot https://github.com/sinnytk/dsu-feedback-bot\n",
      "ModularTable-Web https://github.com/sinnytk/ModularTable-Web\n",
      "DSC-DSU https://github.com/sinnytk/DSC-DSU\n",
      "albertlauncher/albert https://github.com/albertlauncher/albert\n"
     ]
    }
   ],
   "source": [
    "for repo in repos:\n",
    "    print(repo.text, repo.get_attribute(\"href\"))"
   ]
  },
  {
   "cell_type": "code",
   "execution_count": 31,
   "metadata": {},
   "outputs": [
    {
     "ename": "TypeError",
     "evalue": "'NoneType' object is not callable",
     "output_type": "error",
     "traceback": [
      "\u001b[0;31m---------------------------------------------------------------------------\u001b[0m",
      "\u001b[0;31mTypeError\u001b[0m                                 Traceback (most recent call last)",
      "\u001b[0;32m<ipython-input-31-fc115c1ff117>\u001b[0m in \u001b[0;36m<module>\u001b[0;34m\u001b[0m\n\u001b[0;32m----> 1\u001b[0;31m \u001b[0mrepos\u001b[0m\u001b[0;34m[\u001b[0m\u001b[0;36m0\u001b[0m\u001b[0;34m]\u001b[0m\u001b[0;34m.\u001b[0m\u001b[0mclick\u001b[0m\u001b[0;34m(\u001b[0m\u001b[0;34m)\u001b[0m\u001b[0;34m\u001b[0m\u001b[0;34m\u001b[0m\u001b[0m\n\u001b[0m",
      "\u001b[0;31mTypeError\u001b[0m: 'NoneType' object is not callable"
     ]
    }
   ],
   "source": [
    "repos[0].click()"
   ]
  },
  {
   "cell_type": "code",
   "execution_count": 32,
   "metadata": {},
   "outputs": [
    {
     "data": {
      "text/plain": [
       "[<a class=\"text-bold flex-auto min-width-0\" data-hydro-click='{\"event_type\":\"user_profile.click\",\"payload\":{\"profile_user_id\":32937387,\"target\":\"PINNED_REPO\",\"user_id\":null,\"originating_url\":\"https://github.com/sinnytk\"}}' data-hydro-click-hmac=\"183ea35877f7c9535bc15ea21cbf9f7ecc26bbf6abac61e43a1e848a9b53adaf\" href=\"/sinnytk/ration-app\">\n",
       " <span class=\"repo\" title=\"ration-app\">ration-app</span>\n",
       " </a>,\n",
       " <a class=\"text-bold flex-auto min-width-0\" data-hydro-click='{\"event_type\":\"user_profile.click\",\"payload\":{\"profile_user_id\":32937387,\"target\":\"PINNED_REPO\",\"user_id\":null,\"originating_url\":\"https://github.com/sinnytk\"}}' data-hydro-click-hmac=\"183ea35877f7c9535bc15ea21cbf9f7ecc26bbf6abac61e43a1e848a9b53adaf\" href=\"/sinnytk/Buildr\">\n",
       " <span class=\"repo\" title=\"Buildr\">Buildr</span>\n",
       " </a>,\n",
       " <a class=\"text-bold flex-auto min-width-0\" data-hydro-click='{\"event_type\":\"user_profile.click\",\"payload\":{\"profile_user_id\":32937387,\"target\":\"PINNED_REPO\",\"user_id\":null,\"originating_url\":\"https://github.com/sinnytk\"}}' data-hydro-click-hmac=\"183ea35877f7c9535bc15ea21cbf9f7ecc26bbf6abac61e43a1e848a9b53adaf\" href=\"/sinnytk/dsu-feedback-bot\">\n",
       " <span class=\"repo\" title=\"dsu-feedback-bot\">dsu-feedback-bot</span>\n",
       " </a>,\n",
       " <a class=\"text-bold flex-auto min-width-0\" data-hydro-click='{\"event_type\":\"user_profile.click\",\"payload\":{\"profile_user_id\":32937387,\"target\":\"PINNED_REPO\",\"user_id\":null,\"originating_url\":\"https://github.com/sinnytk\"}}' data-hydro-click-hmac=\"183ea35877f7c9535bc15ea21cbf9f7ecc26bbf6abac61e43a1e848a9b53adaf\" href=\"/sinnytk/ModularTable-Web\">\n",
       " <span class=\"repo\" title=\"ModularTable-Web\">ModularTable-Web</span>\n",
       " </a>,\n",
       " <a class=\"text-bold flex-auto min-width-0\" data-hydro-click='{\"event_type\":\"user_profile.click\",\"payload\":{\"profile_user_id\":32937387,\"target\":\"PINNED_REPO\",\"user_id\":null,\"originating_url\":\"https://github.com/sinnytk\"}}' data-hydro-click-hmac=\"183ea35877f7c9535bc15ea21cbf9f7ecc26bbf6abac61e43a1e848a9b53adaf\" href=\"/sinnytk/DSC-DSU\">\n",
       " <span class=\"repo\" title=\"DSC-DSU\">DSC-DSU</span>\n",
       " </a>,\n",
       " <a class=\"text-bold flex-auto min-width-0\" data-hydro-click='{\"event_type\":\"user_profile.click\",\"payload\":{\"profile_user_id\":32937387,\"target\":\"PINNED_REPO\",\"user_id\":null,\"originating_url\":\"https://github.com/sinnytk\"}}' data-hydro-click-hmac=\"183ea35877f7c9535bc15ea21cbf9f7ecc26bbf6abac61e43a1e848a9b53adaf\" href=\"/albertlauncher/albert\">\n",
       " <span class=\"owner text-normal\" title=\"albertlauncher\">albertlauncher</span>/<span class=\"repo\" title=\"albert\">albert</span>\n",
       " </a>]"
      ]
     },
     "execution_count": 32,
     "metadata": {},
     "output_type": "execute_result"
    }
   ],
   "source": [
    "repos"
   ]
  },
  {
   "cell_type": "code",
   "execution_count": 34,
   "metadata": {},
   "outputs": [
    {
     "data": {
      "text/plain": [
       "[<selenium.webdriver.remote.webelement.WebElement (session=\"4612dc51cf5c14a09cad16e6a0658c28\", element=\"4d34e2ec-d7d2-448a-b43f-a5f652898c3d\")>,\n",
       " <selenium.webdriver.remote.webelement.WebElement (session=\"4612dc51cf5c14a09cad16e6a0658c28\", element=\"fb55d2ab-25c9-4b6e-859c-4a792c833e92\")>,\n",
       " <selenium.webdriver.remote.webelement.WebElement (session=\"4612dc51cf5c14a09cad16e6a0658c28\", element=\"74b17e48-3222-4abb-a36e-a26337662f6d\")>,\n",
       " <selenium.webdriver.remote.webelement.WebElement (session=\"4612dc51cf5c14a09cad16e6a0658c28\", element=\"877d80d8-c050-4fb4-aa04-27f3e1cc6e93\")>,\n",
       " <selenium.webdriver.remote.webelement.WebElement (session=\"4612dc51cf5c14a09cad16e6a0658c28\", element=\"d37a0aa2-3145-40a2-adec-845e83392336\")>,\n",
       " <selenium.webdriver.remote.webelement.WebElement (session=\"4612dc51cf5c14a09cad16e6a0658c28\", element=\"b63225f0-8961-41cc-aa22-3985b96e1a8d\")>]"
      ]
     },
     "execution_count": 34,
     "metadata": {},
     "output_type": "execute_result"
    }
   ],
   "source": [
    "repos"
   ]
  },
  {
   "cell_type": "code",
   "execution_count": 38,
   "metadata": {},
   "outputs": [
    {
     "data": {
      "text/plain": [
       "<selenium.webdriver.remote.webelement.WebElement (session=\"4612dc51cf5c14a09cad16e6a0658c28\", element=\"4d34e2ec-d7d2-448a-b43f-a5f652898c3d\")>"
      ]
     },
     "execution_count": 38,
     "metadata": {},
     "output_type": "execute_result"
    }
   ],
   "source": [
    "repos[0]"
   ]
  },
  {
   "cell_type": "code",
   "execution_count": 41,
   "metadata": {},
   "outputs": [],
   "source": [
    "repos = driver.find_elements_by_css_selector('.pinned-item-list-item-content div a')"
   ]
  },
  {
   "cell_type": "code",
   "execution_count": 45,
   "metadata": {},
   "outputs": [],
   "source": [
    "driver.get(repos[0].get_attribute('href'))"
   ]
  },
  {
   "cell_type": "code",
   "execution_count": 46,
   "metadata": {},
   "outputs": [
    {
     "ename": "InvalidArgumentException",
     "evalue": "Message: invalid argument\n  (Session info: chrome=85.0.4183.121)\n",
     "output_type": "error",
     "traceback": [
      "\u001b[0;31m---------------------------------------------------------------------------\u001b[0m",
      "\u001b[0;31mInvalidArgumentException\u001b[0m                  Traceback (most recent call last)",
      "\u001b[0;32m<ipython-input-46-7dfd5dacc816>\u001b[0m in \u001b[0;36m<module>\u001b[0;34m\u001b[0m\n\u001b[0;32m----> 1\u001b[0;31m \u001b[0mdriver\u001b[0m\u001b[0;34m.\u001b[0m\u001b[0mget\u001b[0m\u001b[0;34m(\u001b[0m\u001b[0;34m\"\"\u001b[0m\u001b[0;34m)\u001b[0m\u001b[0;34m\u001b[0m\u001b[0;34m\u001b[0m\u001b[0m\n\u001b[0m",
      "\u001b[0;32m~/.local/lib/python3.8/site-packages/selenium/webdriver/remote/webdriver.py\u001b[0m in \u001b[0;36mget\u001b[0;34m(self, url)\u001b[0m\n\u001b[1;32m    331\u001b[0m         \u001b[0mLoads\u001b[0m \u001b[0ma\u001b[0m \u001b[0mweb\u001b[0m \u001b[0mpage\u001b[0m \u001b[0;32min\u001b[0m \u001b[0mthe\u001b[0m \u001b[0mcurrent\u001b[0m \u001b[0mbrowser\u001b[0m \u001b[0msession\u001b[0m\u001b[0;34m.\u001b[0m\u001b[0;34m\u001b[0m\u001b[0;34m\u001b[0m\u001b[0m\n\u001b[1;32m    332\u001b[0m         \"\"\"\n\u001b[0;32m--> 333\u001b[0;31m         \u001b[0mself\u001b[0m\u001b[0;34m.\u001b[0m\u001b[0mexecute\u001b[0m\u001b[0;34m(\u001b[0m\u001b[0mCommand\u001b[0m\u001b[0;34m.\u001b[0m\u001b[0mGET\u001b[0m\u001b[0;34m,\u001b[0m \u001b[0;34m{\u001b[0m\u001b[0;34m'url'\u001b[0m\u001b[0;34m:\u001b[0m \u001b[0murl\u001b[0m\u001b[0;34m}\u001b[0m\u001b[0;34m)\u001b[0m\u001b[0;34m\u001b[0m\u001b[0;34m\u001b[0m\u001b[0m\n\u001b[0m\u001b[1;32m    334\u001b[0m \u001b[0;34m\u001b[0m\u001b[0m\n\u001b[1;32m    335\u001b[0m     \u001b[0;34m@\u001b[0m\u001b[0mproperty\u001b[0m\u001b[0;34m\u001b[0m\u001b[0;34m\u001b[0m\u001b[0m\n",
      "\u001b[0;32m~/.local/lib/python3.8/site-packages/selenium/webdriver/remote/webdriver.py\u001b[0m in \u001b[0;36mexecute\u001b[0;34m(self, driver_command, params)\u001b[0m\n\u001b[1;32m    319\u001b[0m         \u001b[0mresponse\u001b[0m \u001b[0;34m=\u001b[0m \u001b[0mself\u001b[0m\u001b[0;34m.\u001b[0m\u001b[0mcommand_executor\u001b[0m\u001b[0;34m.\u001b[0m\u001b[0mexecute\u001b[0m\u001b[0;34m(\u001b[0m\u001b[0mdriver_command\u001b[0m\u001b[0;34m,\u001b[0m \u001b[0mparams\u001b[0m\u001b[0;34m)\u001b[0m\u001b[0;34m\u001b[0m\u001b[0;34m\u001b[0m\u001b[0m\n\u001b[1;32m    320\u001b[0m         \u001b[0;32mif\u001b[0m \u001b[0mresponse\u001b[0m\u001b[0;34m:\u001b[0m\u001b[0;34m\u001b[0m\u001b[0;34m\u001b[0m\u001b[0m\n\u001b[0;32m--> 321\u001b[0;31m             \u001b[0mself\u001b[0m\u001b[0;34m.\u001b[0m\u001b[0merror_handler\u001b[0m\u001b[0;34m.\u001b[0m\u001b[0mcheck_response\u001b[0m\u001b[0;34m(\u001b[0m\u001b[0mresponse\u001b[0m\u001b[0;34m)\u001b[0m\u001b[0;34m\u001b[0m\u001b[0;34m\u001b[0m\u001b[0m\n\u001b[0m\u001b[1;32m    322\u001b[0m             response['value'] = self._unwrap_value(\n\u001b[1;32m    323\u001b[0m                 response.get('value', None))\n",
      "\u001b[0;32m~/.local/lib/python3.8/site-packages/selenium/webdriver/remote/errorhandler.py\u001b[0m in \u001b[0;36mcheck_response\u001b[0;34m(self, response)\u001b[0m\n\u001b[1;32m    240\u001b[0m                 \u001b[0malert_text\u001b[0m \u001b[0;34m=\u001b[0m \u001b[0mvalue\u001b[0m\u001b[0;34m[\u001b[0m\u001b[0;34m'alert'\u001b[0m\u001b[0;34m]\u001b[0m\u001b[0;34m.\u001b[0m\u001b[0mget\u001b[0m\u001b[0;34m(\u001b[0m\u001b[0;34m'text'\u001b[0m\u001b[0;34m)\u001b[0m\u001b[0;34m\u001b[0m\u001b[0;34m\u001b[0m\u001b[0m\n\u001b[1;32m    241\u001b[0m             \u001b[0;32mraise\u001b[0m \u001b[0mexception_class\u001b[0m\u001b[0;34m(\u001b[0m\u001b[0mmessage\u001b[0m\u001b[0;34m,\u001b[0m \u001b[0mscreen\u001b[0m\u001b[0;34m,\u001b[0m \u001b[0mstacktrace\u001b[0m\u001b[0;34m,\u001b[0m \u001b[0malert_text\u001b[0m\u001b[0;34m)\u001b[0m\u001b[0;34m\u001b[0m\u001b[0;34m\u001b[0m\u001b[0m\n\u001b[0;32m--> 242\u001b[0;31m         \u001b[0;32mraise\u001b[0m \u001b[0mexception_class\u001b[0m\u001b[0;34m(\u001b[0m\u001b[0mmessage\u001b[0m\u001b[0;34m,\u001b[0m \u001b[0mscreen\u001b[0m\u001b[0;34m,\u001b[0m \u001b[0mstacktrace\u001b[0m\u001b[0;34m)\u001b[0m\u001b[0;34m\u001b[0m\u001b[0;34m\u001b[0m\u001b[0m\n\u001b[0m\u001b[1;32m    243\u001b[0m \u001b[0;34m\u001b[0m\u001b[0m\n\u001b[1;32m    244\u001b[0m     \u001b[0;32mdef\u001b[0m \u001b[0m_value_or_default\u001b[0m\u001b[0;34m(\u001b[0m\u001b[0mself\u001b[0m\u001b[0;34m,\u001b[0m \u001b[0mobj\u001b[0m\u001b[0;34m,\u001b[0m \u001b[0mkey\u001b[0m\u001b[0;34m,\u001b[0m \u001b[0mdefault\u001b[0m\u001b[0;34m)\u001b[0m\u001b[0;34m:\u001b[0m\u001b[0;34m\u001b[0m\u001b[0;34m\u001b[0m\u001b[0m\n",
      "\u001b[0;31mInvalidArgumentException\u001b[0m: Message: invalid argument\n  (Session info: chrome=85.0.4183.121)\n"
     ]
    }
   ],
   "source": [
    "driver.get(\"\")"
   ]
  },
  {
   "cell_type": "code",
   "execution_count": 87,
   "metadata": {},
   "outputs": [
    {
     "data": {
      "text/plain": [
       "'<!DOCTYPE html>\\n<html lang=\"en\">\\n <head>\\n  <meta charset=\"utf-8\"/>\\n  <meta content=\"width=device-width,user-scalable=no\" name=\"viewport\"/>\\n  <link href=\"/calculator/manifest.json\" rel=\"manifest\"/>\\n  <link href=\"/calculator/favicon.ico\" rel=\"shortcut icon\"/>\\n  <title>\\n   React Calculator\\n  </title>\\n  <link href=\"/calculator/static/css/main.b51b4a8b.css\" rel=\"stylesheet\"/>\\n </head>\\n <body>\\n  <noscript>\\n   You need to enable JavaScript to run this app.\\n  </noscript>\\n  <div id=\"root\">\\n  </div>\\n  <a class=\"github-fork-ribbon left-top\" href=\"https://github.com/ahfarmer/calculator\" title=\"Fork me on GitHub\">\\n   Fork me on GitHub\\n  </a>\\n  <script src=\"/calculator/static/js/main.b319222a.js\" type=\"text/javascript\">\\n  </script>\\n </body>\\n</html>'"
      ]
     },
     "execution_count": 87,
     "metadata": {},
     "output_type": "execute_result"
    }
   ],
   "source": [
    "res = requests.get(\"https://ahfarmer.github.io/calculator/\")\n",
    "soup = BeautifulSoup(res.content,'html.parser')\n",
    "soup.prettify()"
   ]
  },
  {
   "cell_type": "code",
   "execution_count": 48,
   "metadata": {},
   "outputs": [],
   "source": [
    "driver.get(\"https://ahfarmer.github.io/calculator/\")"
   ]
  },
  {
   "cell_type": "code",
   "execution_count": 86,
   "metadata": {},
   "outputs": [],
   "source": [
    "driver.get(\"https://ahfarmer.github.io/calculator/\")"
   ]
  },
  {
   "cell_type": "code",
   "execution_count": 50,
   "metadata": {},
   "outputs": [],
   "source": [
    "driver.get(\"https://github.com\")"
   ]
  },
  {
   "cell_type": "code",
   "execution_count": 52,
   "metadata": {},
   "outputs": [],
   "source": [
    "btns = driver.find_elements_by_css_selector('div.component-button button')"
   ]
  },
  {
   "cell_type": "code",
   "execution_count": 70,
   "metadata": {},
   "outputs": [
    {
     "name": "stdout",
     "output_type": "stream",
     "text": [
      "AC 0\n",
      "+/- 1\n",
      "% 2\n",
      "÷ 3\n",
      "7 4\n",
      "8 5\n",
      "9 6\n",
      "x 7\n",
      "4 8\n",
      "5 9\n",
      "6 10\n",
      "- 11\n",
      "1 12\n",
      "2 13\n",
      "3 14\n",
      "+ 15\n",
      "0 16\n",
      ". 17\n",
      "= 18\n"
     ]
    }
   ],
   "source": [
    "counter = 0\n",
    "for btn in btns:\n",
    "    print(btn.text,counter)\n",
    "    counter+=1"
   ]
  },
  {
   "cell_type": "code",
   "execution_count": 71,
   "metadata": {},
   "outputs": [],
   "source": [
    "CHAR_TO_INDEX = {'AC': 0,\n",
    "'+/-': 1,\n",
    "'%': 2,\n",
    "'÷': 3,\n",
    "'7': 4,\n",
    "'8': 5,\n",
    "'9': 6,\n",
    "'x': 7,\n",
    "'4': 8,\n",
    "'5': 9,\n",
    "'6': 10,\n",
    "'-': 11,\n",
    "'1': 12,\n",
    "'2': 13,\n",
    "'3': 14,\n",
    "'+': 15,\n",
    "'0': 16,\n",
    "'.': 17,\n",
    "'=': 18}"
   ]
  },
  {
   "cell_type": "code",
   "execution_count": 72,
   "metadata": {},
   "outputs": [
    {
     "data": {
      "text/plain": [
       "18"
      ]
     },
     "execution_count": 72,
     "metadata": {},
     "output_type": "execute_result"
    }
   ],
   "source": [
    "CHAR_TO_INDEX['=']"
   ]
  },
  {
   "cell_type": "code",
   "execution_count": 73,
   "metadata": {},
   "outputs": [],
   "source": [
    "btns[CHAR_TO_INDEX['AC']].click()"
   ]
  },
  {
   "cell_type": "code",
   "execution_count": 74,
   "metadata": {},
   "outputs": [],
   "source": [
    "btns[CHAR_TO_INDEX['9']].click()\n",
    "btns[CHAR_TO_INDEX['x']].click()\n",
    "btns[CHAR_TO_INDEX['9']].click()\n",
    "btns[CHAR_TO_INDEX['=']].click()"
   ]
  },
  {
   "cell_type": "code",
   "execution_count": 75,
   "metadata": {},
   "outputs": [
    {
     "data": {
      "text/plain": [
       "<selenium.webdriver.chrome.webdriver.WebDriver (session=\"4612dc51cf5c14a09cad16e6a0658c28\")>"
      ]
     },
     "execution_count": 75,
     "metadata": {},
     "output_type": "execute_result"
    }
   ],
   "source": [
    "driver"
   ]
  },
  {
   "cell_type": "code",
   "execution_count": 78,
   "metadata": {},
   "outputs": [],
   "source": [
    "driver.get(\"https://quotes.toscrape.com/\")"
   ]
  },
  {
   "cell_type": "code",
   "execution_count": 85,
   "metadata": {},
   "outputs": [],
   "source": [
    "driver.find_element_by_css_selector(\".pager li.next a\").click()"
   ]
  },
  {
   "cell_type": "code",
   "execution_count": 88,
   "metadata": {},
   "outputs": [
    {
     "data": {
      "text/plain": [
       "<!DOCTYPE html>\n",
       "<html lang=\"en\"><head><meta charset=\"utf-8\"/><meta content=\"width=device-width,user-scalable=no\" name=\"viewport\"/><link href=\"/calculator/manifest.json\" rel=\"manifest\"/><link href=\"/calculator/favicon.ico\" rel=\"shortcut icon\"/><title>React Calculator</title><link href=\"/calculator/static/css/main.b51b4a8b.css\" rel=\"stylesheet\"/></head><body><noscript>You need to enable JavaScript to run this app.</noscript><div id=\"root\"></div><a class=\"github-fork-ribbon left-top\" href=\"https://github.com/ahfarmer/calculator\" title=\"Fork me on GitHub\">Fork me on GitHub</a><script src=\"/calculator/static/js/main.b319222a.js\" type=\"text/javascript\"></script></body></html>"
      ]
     },
     "execution_count": 88,
     "metadata": {},
     "output_type": "execute_result"
    }
   ],
   "source": [
    "soup"
   ]
  },
  {
   "cell_type": "code",
   "execution_count": 89,
   "metadata": {},
   "outputs": [],
   "source": [
    "soup = BeautifulSoup(driver.page_source,'lxml')"
   ]
  },
  {
   "cell_type": "code",
   "execution_count": 92,
   "metadata": {},
   "outputs": [
    {
     "name": "stdout",
     "output_type": "stream",
     "text": [
      "AC\n",
      "+/-\n",
      "%\n",
      "÷\n",
      "7\n",
      "8\n",
      "9\n",
      "x\n",
      "4\n",
      "5\n",
      "6\n",
      "-\n",
      "1\n",
      "2\n",
      "3\n",
      "+\n",
      "0\n",
      ".\n",
      "=\n"
     ]
    }
   ],
   "source": [
    "for i in soup.select(\"div.component-button button\"):\n",
    "    print(i.text)"
   ]
  },
  {
   "cell_type": "code",
   "execution_count": null,
   "metadata": {},
   "outputs": [],
   "source": []
  }
 ],
 "metadata": {
  "kernelspec": {
   "display_name": "Python 3",
   "language": "python",
   "name": "python3"
  },
  "language_info": {
   "codemirror_mode": {
    "name": "ipython",
    "version": 3
   },
   "file_extension": ".py",
   "mimetype": "text/x-python",
   "name": "python",
   "nbconvert_exporter": "python",
   "pygments_lexer": "ipython3",
   "version": "3.8.5"
  }
 },
 "nbformat": 4,
 "nbformat_minor": 4
}
