{
 "cells": [
  {
   "cell_type": "markdown",
   "metadata": {},
   "source": [
    "## Let's Start\n",
    "### Variables\n",
    "- dynamically type"
   ]
  },
  {
   "cell_type": "code",
   "execution_count": 14,
   "metadata": {},
   "outputs": [],
   "source": [
    "# int a = 5 C/C++ or java\n",
    "a = '5.0'"
   ]
  },
  {
   "cell_type": "code",
   "execution_count": 15,
   "metadata": {},
   "outputs": [
    {
     "data": {
      "text/plain": [
       "str"
      ]
     },
     "execution_count": 15,
     "metadata": {},
     "output_type": "execute_result"
    }
   ],
   "source": [
    "type(a)"
   ]
  },
  {
   "cell_type": "markdown",
   "metadata": {},
   "source": [
    "### Primitive data type\n",
    "    1. int\n",
    "    2. float\n",
    "    3. string(str)\n",
    "    4. bool\n"
   ]
  },
  {
   "cell_type": "code",
   "execution_count": 1,
   "metadata": {},
   "outputs": [],
   "source": [
    "a = 5.0\n",
    "print(type(a))\n",
    "a = 5 \n",
    "print(type(a))"
   ]
  },
  {
   "cell_type": "code",
   "execution_count": 24,
   "metadata": {},
   "outputs": [
    {
     "data": {
      "text/plain": [
       "False"
      ]
     },
     "execution_count": 24,
     "metadata": {},
     "output_type": "execute_result"
    }
   ],
   "source": [
    "bool('')"
   ]
  },
  {
   "cell_type": "markdown",
   "metadata": {},
   "source": [
    "### Global vs local scope\n",
    "\n",
    "In most programming languages, variables, classes and objects (and sometimes functions) have scope where they may be referenced and mutated, Python also has a global and local scope.\n",
    "\n",
    "- Global variables as their name suggests may be accessed through out the program, however cannot be referenced from a function's local scope.\n",
    "- Local  variables exist within a function's scope and cannot be accessed outside that function."
   ]
  },
  {
   "cell_type": "code",
   "execution_count": 35,
   "metadata": {},
   "outputs": [
    {
     "name": "stdout",
     "output_type": "stream",
     "text": [
      "25\n"
     ]
    }
   ],
   "source": [
    "x = 5 \n",
    "def func():\n",
    "    global x\n",
    "    x = x * 5\n",
    "    print(x)\n",
    "func()"
   ]
  },
  {
   "cell_type": "code",
   "execution_count": 41,
   "metadata": {},
   "outputs": [
    {
     "name": "stdout",
     "output_type": "stream",
     "text": [
      "x in local local\n",
      "x in global local\n"
     ]
    }
   ],
   "source": [
    "x = 'global'\n",
    "def my_func():\n",
    "    global x\n",
    "    x=\"local\"\n",
    "    print('x in local',x)\n",
    "my_func()\n",
    "print('x in global',x)"
   ]
  },
  {
   "cell_type": "markdown",
   "metadata": {},
   "source": [
    "### Printing in Python"
   ]
  },
  {
   "cell_type": "code",
   "execution_count": 57,
   "metadata": {},
   "outputs": [
    {
     "name": "stdout",
     "output_type": "stream",
     "text": [
      "hello world local\n"
     ]
    }
   ],
   "source": [
    "print(f'hello world {x}')"
   ]
  },
  {
   "cell_type": "code",
   "execution_count": 2,
   "metadata": {},
   "outputs": [
    {
     "name": "stdout",
     "output_type": "stream",
     "text": [
      "python bootcamp\n"
     ]
    }
   ],
   "source": [
    "print ('python '+ 'bootcamp')"
   ]
  },
  {
   "cell_type": "markdown",
   "metadata": {},
   "source": [
    "### Input in python "
   ]
  },
  {
   "cell_type": "code",
   "execution_count": 77,
   "metadata": {},
   "outputs": [
    {
     "name": "stdout",
     "output_type": "stream",
     "text": [
      "Enter number:5\n"
     ]
    }
   ],
   "source": [
    "x = float(input('Enter number:'))"
   ]
  },
  {
   "cell_type": "markdown",
   "metadata": {},
   "source": [
    "### Casting types"
   ]
  },
  {
   "cell_type": "code",
   "execution_count": 3,
   "metadata": {},
   "outputs": [
    {
     "name": "stdout",
     "output_type": "stream",
     "text": [
      "5\n"
     ]
    }
   ],
   "source": [
    "a = 5.0 \n",
    "a = int(a)\n",
    "print(a)"
   ]
  },
  {
   "cell_type": "code",
   "execution_count": 5,
   "metadata": {},
   "outputs": [
    {
     "name": "stdout",
     "output_type": "stream",
     "text": [
      "582\n",
      "582.0\n"
     ]
    }
   ],
   "source": [
    "b = '582'\n",
    "print(int(b))\n",
    "print(float(b))"
   ]
  },
  {
   "cell_type": "markdown",
   "metadata": {},
   "source": [
    "### Swapping variables "
   ]
  },
  {
   "cell_type": "code",
   "execution_count": 86,
   "metadata": {},
   "outputs": [],
   "source": [
    "a = 5\n",
    "b = 4"
   ]
  },
  {
   "cell_type": "code",
   "execution_count": 96,
   "metadata": {},
   "outputs": [],
   "source": [
    "a , b = b , a "
   ]
  },
  {
   "cell_type": "code",
   "execution_count": 97,
   "metadata": {},
   "outputs": [
    {
     "name": "stdout",
     "output_type": "stream",
     "text": [
      "8 9\n"
     ]
    }
   ],
   "source": [
    "print(a,b)"
   ]
  },
  {
   "cell_type": "markdown",
   "metadata": {},
   "source": [
    "## Control Structure\n",
    "### if else\n"
   ]
  },
  {
   "cell_type": "code",
   "execution_count": 6,
   "metadata": {},
   "outputs": [
    {
     "name": "stdout",
     "output_type": "stream",
     "text": [
      "enter a:5\n",
      "enter b:8\n",
      "a is greater than b\n"
     ]
    }
   ],
   "source": [
    "a = input('enter a:')\n",
    "b = input('enter b:')\n",
    "if a > b :\n",
    "    print('a is greater than b')\n",
    "elif b > a :\n",
    "    print('b is greater than a')\n",
    "else:\n",
    "    print('both are equal')"
   ]
  },
  {
   "cell_type": "markdown",
   "metadata": {},
   "source": [
    "## Loops\n",
    "- for \n",
    "- while \n",
    "### loop keywords \n",
    "- break \n",
    "- continue \n",
    "### range function\n",
    "- first let's look at range function! \n"
   ]
  },
  {
   "cell_type": "code",
   "execution_count": 8,
   "metadata": {},
   "outputs": [
    {
     "name": "stdout",
     "output_type": "stream",
     "text": [
      "0-1-2-3-4-5-6-7-8-9-10-11-12-13-14-15-16-17-18-19-20-21-22-23-24-25-26-27-28-29-30-31-32-33-34-35-36-37-38-39-40-41-42-43-44-45-46-47-48-49-50-51-52-53-54-55-56-57-58-59-60-61-62-63-64-65-66-67-68-69-70-71-72-73-74-75-76-77-78-79-80-81-82-83-84-85-86-87-88-89-90-91-92-93-94-95-96-97-98-99-"
     ]
    }
   ],
   "source": [
    "for i in range(100):\n",
    "    print(i,end='-')"
   ]
  },
  {
   "cell_type": "code",
   "execution_count": 126,
   "metadata": {},
   "outputs": [
    {
     "name": "stdout",
     "output_type": "stream",
     "text": [
      "1 5 8 6 "
     ]
    }
   ],
   "source": [
    "for i in [1,5,8,6]:\n",
    "    print(i,end=' ')"
   ]
  },
  {
   "cell_type": "code",
   "execution_count": 135,
   "metadata": {},
   "outputs": [
    {
     "name": "stdout",
     "output_type": "stream",
     "text": [
      "p y t "
     ]
    }
   ],
   "source": [
    "for i in 'python':\n",
    "    if i == 'h':\n",
    "        break\n",
    "    print(i,end=' ')\n",
    "        "
   ]
  },
  {
   "cell_type": "code",
   "execution_count": 9,
   "metadata": {},
   "outputs": [
    {
     "name": "stdout",
     "output_type": "stream",
     "text": [
      "\n",
      "* \n",
      "* * \n",
      "* * * \n",
      "* * * * \n",
      "* * * * * \n"
     ]
    }
   ],
   "source": [
    "rows=6\n",
    "for i in range(rows):\n",
    "    for j in range(i):\n",
    "        print('*',end=\" \")\n",
    "    print(\"\")"
   ]
  },
  {
   "cell_type": "code",
   "execution_count": 143,
   "metadata": {},
   "outputs": [
    {
     "name": "stdout",
     "output_type": "stream",
     "text": [
      "0 1 2 3 4 5 6 7 8 9 10 11 12 13 14 15 16 17 18 19 20 21 22 23 24 "
     ]
    }
   ],
   "source": [
    "for i in range(50):\n",
    "    if i==25:\n",
    "        break\n",
    "    print(i,end=' ')"
   ]
  },
  {
   "cell_type": "code",
   "execution_count": 10,
   "metadata": {},
   "outputs": [
    {
     "name": "stdout",
     "output_type": "stream",
     "text": [
      "enter string:585\n",
      "it's a palindrome\n"
     ]
    }
   ],
   "source": [
    "pf = input(\"enter string:\")\n",
    "fp = ''\n",
    "for i in range(len(pf)-1,-1,-1):\n",
    "    fp+=pf[i]\n",
    "if(pf==fp):\n",
    "    print(\"it's a palindrome\")\n",
    "else:\n",
    "    print(\"it's a not palindrome\")"
   ]
  },
  {
   "cell_type": "code",
   "execution_count": 157,
   "metadata": {},
   "outputs": [
    {
     "name": "stdout",
     "output_type": "stream",
     "text": [
      "it'\n"
     ]
    }
   ],
   "source": [
    "print('it\\'')"
   ]
  },
  {
   "cell_type": "code",
   "execution_count": 11,
   "metadata": {},
   "outputs": [
    {
     "data": {
      "text/plain": [
       "48"
      ]
     },
     "execution_count": 11,
     "metadata": {},
     "output_type": "execute_result"
    }
   ],
   "source": [
    "len('len will return no. of characters in this string')"
   ]
  },
  {
   "cell_type": "code",
   "execution_count": 19,
   "metadata": {},
   "outputs": [
    {
     "name": "stdout",
     "output_type": "stream",
     "text": [
      "B                                                                    B\n",
      "    a                                                            a    \n",
      "        h                                                    h        \n",
      "            a                                            a            \n",
      "                w                                    w                \n",
      "                    a                            a                    \n",
      "                        l                    l                        \n",
      "                                                                      \n",
      "                                K    K                                \n",
      "                                    h                                    \n",
      "                                a    a                                \n",
      "                            n            n                            \n",
      "                                                                      \n",
      "                    B                            B                    \n",
      "                a                                    a                \n",
      "            l                                            l            \n",
      "        o                                                    o        \n",
      "    c                                                            c    \n",
      "h                                                                    h\n"
     ]
    }
   ],
   "source": [
    "N = \"Bahawal Khan Baloch\"\n",
    "for i in range(len(N)):\n",
    "    for j in range(len(N)):\n",
    "        if (i == j) or ((len(N) - i -1) == j):\n",
    "            print(N[i], end = '')\n",
    "        else:\n",
    "            print('    ', end = '')\n",
    "    print('')"
   ]
  },
  {
   "cell_type": "code",
   "execution_count": 13,
   "metadata": {},
   "outputs": [
    {
     "name": "stdout",
     "output_type": "stream",
     "text": [
      "\"Ek Hazar Janen Aisi Mujh pe Sab Fida In Sab Ko Al-Wida Aur Ek Hazar Baten Aisi,\n",
      "Sab Lagti Hain Saheeh Lekin Main Manoon Ga Naheen \n",
      "Kyunk Kuch Aise Hain Sawal Kih Jin Ke Hain Jawab \n",
      "Lafzon Men Mumkin Hi Naheen \n",
      "Aur Keh Doon Main Agar Sab Pagal Is Qadar Koyi Mane Ga Naheen \n",
      "Bas Ab Dil Khirki Ko Kholo, In Darwazon Ko Kholo Aur yeh Darwaze \n",
      "Hain Aise Kih yeh Khul Jaen Agar Toh Band yeh Honge Na Kabhi Oh heart, \n",
      "Aur Darya Kuch Hain Aise Jo Nah Bahne The Kabhi Jab Tak Ham Doobe The \n",
      "Naheen Aur yeh Zanjeeren Hain Aisi yeh Na Khulni Theen Kabhi Agar Ham Jhukte\n",
      "Hi Naheen Aur Manzar yeh Hain Aise yeh Nah Dikhayi Dene The Kabhi \n",
      "Andar Ham Ghuste Agar Naheen Bas Ab Dil Khirki Ko Kholo, In Darwazon Ko Bolo Bas Ab Dil Khirki Ko Kholo, \n",
      "In Darwazon Ko Kholo Had we not entered within. \n",
      "Aur Han Yeh Sahraon Men Cheekho Yeh Wadiyon Men Seekho Kih Ab Dil Khirki Ko Kholo \n",
      "Aur Go Ham Lagte Hain Hairan, Akele Pareshan Lekin Ham Khush Hain Meri Jaan,\n",
      "Aur Teri Ankhen Bhi Udas, Lambe Bhikre Tere Bal Lekin Yeh Sach Hai Meri Jan \n",
      "Kih Phool Khilte Hi Naheen Aur Ham Milte Nah Kabhi Agar Ham Gumte Hi Naheen \n",
      "Aur Ek Hazar Janen Aisi Mujh Pe Sab Fida In Sab Ko Mahdi Ma’loof Ka Al-Wida Bas Ab Dil Khirki Ko Kholo, \n",
      "In Darwazon Ko Bolo\n"
     ]
    }
   ],
   "source": [
    "from time import sleep\n",
    "lyrics =\"\"\"\"Ek Hazar Janen Aisi Mujh pe Sab Fida In Sab Ko Al-Wida Aur Ek Hazar Baten Aisi,\n",
    "Sab Lagti Hain Saheeh Lekin Main Manoon Ga Naheen \n",
    "Kyunk Kuch Aise Hain Sawal Kih Jin Ke Hain Jawab \n",
    "Lafzon Men Mumkin Hi Naheen \n",
    "Aur Keh Doon Main Agar Sab Pagal Is Qadar Koyi Mane Ga Naheen \n",
    "Bas Ab Dil Khirki Ko Kholo, In Darwazon Ko Kholo Aur yeh Darwaze \n",
    "Hain Aise Kih yeh Khul Jaen Agar Toh Band yeh Honge Na Kabhi Oh heart, \n",
    "Aur Darya Kuch Hain Aise Jo Nah Bahne The Kabhi Jab Tak Ham Doobe The \n",
    "Naheen Aur yeh Zanjeeren Hain Aisi yeh Na Khulni Theen Kabhi Agar Ham Jhukte\n",
    "Hi Naheen Aur Manzar yeh Hain Aise yeh Nah Dikhayi Dene The Kabhi \n",
    "Andar Ham Ghuste Agar Naheen Bas Ab Dil Khirki Ko Kholo, In Darwazon Ko Bolo Bas Ab Dil Khirki Ko Kholo, \n",
    "In Darwazon Ko Kholo Had we not entered within. \n",
    "Aur Han Yeh Sahraon Men Cheekho Yeh Wadiyon Men Seekho Kih Ab Dil Khirki Ko Kholo \n",
    "Aur Go Ham Lagte Hain Hairan, Akele Pareshan Lekin Ham Khush Hain Meri Jaan,\n",
    "Aur Teri Ankhen Bhi Udas, Lambe Bhikre Tere Bal Lekin Yeh Sach Hai Meri Jan \n",
    "Kih Phool Khilte Hi Naheen Aur Ham Milte Nah Kabhi Agar Ham Gumte Hi Naheen \n",
    "Aur Ek Hazar Janen Aisi Mujh Pe Sab Fida In Sab Ko Mahdi Ma’loof Ka Al-Wida Bas Ab Dil Khirki Ko Kholo, \n",
    "In Darwazon Ko Bolo\"\"\"\n",
    "lines = lyrics.splitlines()\n",
    "for i in lines:\n",
    "    print(i)\n",
    "    sleep(1)"
   ]
  },
  {
   "cell_type": "code",
   "execution_count": null,
   "metadata": {},
   "outputs": [],
   "source": []
  }
 ],
 "metadata": {
  "kernelspec": {
   "display_name": "Python 3",
   "language": "python",
   "name": "python3"
  },
  "language_info": {
   "codemirror_mode": {
    "name": "ipython",
    "version": 3
   },
   "file_extension": ".py",
   "mimetype": "text/x-python",
   "name": "python",
   "nbconvert_exporter": "python",
   "pygments_lexer": "ipython3",
   "version": "3.7.6"
  }
 },
 "nbformat": 4,
 "nbformat_minor": 4
}
